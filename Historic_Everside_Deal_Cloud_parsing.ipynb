{
  "nbformat": 4,
  "nbformat_minor": 0,
  "metadata": {
    "colab": {
      "provenance": [],
      "authorship_tag": "ABX9TyOUI6q7ETjvC3fhovhYIHfy",
      "include_colab_link": true
    },
    "kernelspec": {
      "name": "python3",
      "display_name": "Python 3"
    },
    "language_info": {
      "name": "python"
    }
  },
  "cells": [
    {
      "cell_type": "markdown",
      "metadata": {
        "id": "view-in-github",
        "colab_type": "text"
      },
      "source": [
        "<a href=\"https://colab.research.google.com/github/slatej1/Everside/blob/main/Historic_Everside_Deal_Cloud_parsing.ipynb\" target=\"_parent\"><img src=\"https://colab.research.google.com/assets/colab-badge.svg\" alt=\"Open In Colab\"/></a>"
      ]
    },
    {
      "cell_type": "code",
      "execution_count": 3,
      "metadata": {
        "id": "JkCyMt3I_9Wu"
      },
      "outputs": [],
      "source": [
        "import pandas as pd\n",
        "import openpyxl"
      ]
    },
    {
      "cell_type": "code",
      "source": [
        "\n",
        "# UPDATE INPUT FILE NAME\n",
        "# Read the data from the source file\n",
        "source_file_path = 'Fund III DealCloud Model - Q4 2023 vDRAFT (03.24.24).xlsx'\n",
        "data = pd.read_excel(source_file_path, sheet_name='Fund III (Q4 2023)', skiprows = 2)  # Adjust sheet_name as needed\n",
        "\n",
        "print(data.columns)"
      ],
      "metadata": {
        "id": "c8qB2iQd_-q9",
        "outputId": "8a24ee9c-ae3e-4df0-9aea-bb92acb670c9",
        "colab": {
          "base_uri": "https://localhost:8080/"
        }
      },
      "execution_count": 4,
      "outputs": [
        {
          "output_type": "stream",
          "name": "stdout",
          "text": [
            "Index(['Unnamed: 0', 'Company Name', 'Date of Investment', 'Industry',\n",
            "       'Geography', 'Debt (Cost)', 'Equity (Cost)', 'Total (Cost)',\n",
            "       'Everside % Fund', '% Fund Concentration', 'Everside $ Expsoure',\n",
            "       'Everside % Expsoure', 'Deal Contribution to Cost',\n",
            "       'Deal Contribution to FMV', 'Debt (Cost).1', 'Debt Realized Value',\n",
            "       'Debt (FMV)', 'Equity (Cost).1', 'Equity Realized Value',\n",
            "       'Equity (FMV)', 'Cash ', 'PIK', 'Total Coupon', 'Cash', 'PIK.1',\n",
            "       'Equity Ownership (FD)', 'Senior Debt', 'Sr. Debt Turns', 'Total Debt',\n",
            "       'Total Debt Turns', 'Liquidity (Cash + Available Liquidity)',\n",
            "       'FCCR (Covenants)', 'Enterprise Value', 'EV Multiple', 'Sales',\n",
            "       'EBITDA', 'Capex', 'EBITDA - Capex', 'Senior Debt.1',\n",
            "       'Sr. Debt Turns.1', 'Total Debt.1', 'Total Debt Turns.1',\n",
            "       'Liquidity (Cash + Available Liquidity).1', 'FCCR (Current)',\n",
            "       'Enterprise Value.1', 'EV Multiple.1', 'Sales.1', 'EBITDA.1', 'Capex.1',\n",
            "       'EBITDA - Capex.1', 'Current Status', 'Type of Debt',\n",
            "       'Covenants Breach', 'Current on Interest', 'Unnamed: 54',\n",
            "       'Everside $ Expsoure.1', 'Total Leverage at Close', 'Unnamed: 57',\n",
            "       'Everside $ Expsoure.2', 'Total Leverage at 12/31/2023', 'Unnamed: 60',\n",
            "       'Everside Equity Exposure', 'Closing EV Multiple', 'Unnamed: 63',\n",
            "       'Everside Debt Exposure', 'Cash.1', 'PIK.2', 'Total', 'Unnamed: 68',\n",
            "       'Everside Full Exposure', 'Cash.2', 'PIK.3', 'Total.1', 'Unnamed: 73',\n",
            "       'Sponsor Type ', 'Invested Cost', 'Unnamed: 76', 'Debt FMV/Cost',\n",
            "       'Equity FMV/Cost', 'Total FMV/Cost'],\n",
            "      dtype='object')\n"
          ]
        }
      ]
    },
    {
      "cell_type": "code",
      "source": [
        "template_file_path = 'deal_cloud_dataset_template_for_python.xlsx'\n",
        "workbook = openpyxl.load_workbook(template_file_path)\n",
        "worksheet = workbook.active\n",
        "# UPDATE OUTPUT FILE NAME\n",
        "output_file_path = 'Fund III 2023 Q4.xlsx'"
      ],
      "metadata": {
        "id": "UMJ9ev8_AAGF"
      },
      "execution_count": 5,
      "outputs": []
    },
    {
      "cell_type": "code",
      "source": [
        "column_mapping = {\n",
        "    'Company Name': 'E',\n",
        "    'Geography': 'K',\n",
        "    'Industry': 'J',\n",
        "    'Date of Investment': 'I',\n",
        "    'Debt (Cost)': 'Q',\n",
        "    'Equity (Cost)': 'R',\n",
        "    'Everside $ Expsoure': 'W', #Everside $Exposure\n",
        "    'Everside % Expsoure': 'X', #Percent exposure\n",
        "    'Debt (Cost).1': 'AC',\n",
        "    'Debt (FMV)': 'AE',\n",
        "    'Equity (Cost).1': 'AG',\n",
        "    'Equity (FMV)': 'AI',\n",
        "    'Cash ': 'AN',\n",
        "    'PIK': 'AO',\n",
        "    'Total Coupon': 'AP',\n",
        "    'Cash': 'AS',\n",
        "    'PIK.1': 'AT',\n",
        "    'Equity Ownership (FD)': 'AU',\n",
        "    'Senior Debt': 'AV',\n",
        "    'Total Debt': 'AX',\n",
        "    'Liquidity (Cash + Available Liquidity)': 'AZ',\n",
        "    'FCCR (Covenants)': 'BA',\n",
        "    'Enterprise Value': 'BB',\n",
        "    'Sales': 'BD',\n",
        "    'EBITDA': 'BE',\n",
        "    'Capex': 'BF',\n",
        "    'Senior Debt.1': 'BH',\n",
        "    'Total Debt.1': 'BJ',\n",
        "    'Liquidity (Cash + Available Liquidity).1': 'BO',\n",
        "    'FCCR (Current)': 'BP',\n",
        "    'Enterprise Value.1': 'BQ',\n",
        "    'Sales.1': 'BS',\n",
        "    'EBITDA.1': 'BT',\n",
        "    'Capex.1': 'BU',\n",
        "}"
      ],
      "metadata": {
        "id": "u8dg0rzMACMg"
      },
      "execution_count": 9,
      "outputs": []
    },
    {
      "cell_type": "code",
      "source": [
        "def col_letter_to_num(letter):\n",
        "    num = 0\n",
        "    for char in letter:\n",
        "        num = num * 26 + (ord(char.upper()) - ord('A') + 1)\n",
        "    return num"
      ],
      "metadata": {
        "id": "1L0l3-Y9AEL6"
      },
      "execution_count": 10,
      "outputs": []
    },
    {
      "cell_type": "code",
      "source": [
        "start_row = 2\n",
        "\n",
        "# Set the first three columns to \"Pipeline\"\n",
        "for i in range(len(data)):\n",
        "    for col_num in range(1, 2):\n",
        "        worksheet.cell(row=start_row + i, column=col_num, value=\"Fund III\")\n",
        "\n",
        "# for i in range(len(data)):\n",
        "  #   for col_num in range(2, 4):\n",
        "    #     worksheet.cell(row=start_row + i, column=col_num, value=\"Directs\")\n",
        "\n",
        "# for i in range(len(data)):\n",
        "  #   for col_num in range(4, 5):\n",
        "    #     worksheet.cell(row=start_row + i, column=col_num, value=\"12/31/2021\")\n",
        "\n",
        "# Write data to the template based on the column mapping\n",
        "for i, row in data.iterrows():\n",
        "    for source_col, target_cols in column_mapping.items():\n",
        "        if isinstance(target_cols, list):\n",
        "            # Handle mapping a single source column to multiple target columns\n",
        "            for target_col in target_cols:\n",
        "                value = row[source_col]\n",
        "                col_num = col_letter_to_num(target_col)  # Convert column letter to number\n",
        "                worksheet.cell(row=start_row + i, column=col_num, value=value)\n",
        "        elif isinstance(target_cols, dict) and 'sources' in target_cols:\n",
        "            # Handle combined or subtracted columns\n",
        "            sources = target_cols['sources']\n",
        "            target_col_letter = target_cols['target']\n",
        "            if source_col.startswith('Subtracted'):\n",
        "                # Subtract the sum of specified source columns\n",
        "                value = row[sources[0]] - sum(row[source] for source in sources[1:])\n",
        "            else:\n",
        "                # Combine specified columns\n",
        "                value = sum(row[source] for source in sources)\n",
        "            col_num = col_letter_to_num(target_col_letter)  # Convert column letter to number\n",
        "            worksheet.cell(row=start_row + i, column=col_num, value=value)\n",
        "        else:\n",
        "            # Single column mapping\n",
        "            value = row[source_col]\n",
        "            col_num = col_letter_to_num(target_cols)  # Convert column letter to number\n",
        "            worksheet.cell(row=start_row + i, column=col_num, value=value)"
      ],
      "metadata": {
        "id": "1pBWF7XcAFiL"
      },
      "execution_count": 11,
      "outputs": []
    },
    {
      "cell_type": "code",
      "source": [
        "# Save the updated template\n",
        "workbook.save(output_file_path)"
      ],
      "metadata": {
        "id": "WiZnRqq6AHE-"
      },
      "execution_count": 12,
      "outputs": []
    },
    {
      "cell_type": "code",
      "source": [],
      "metadata": {
        "id": "1sDOMkPIAHrY"
      },
      "execution_count": null,
      "outputs": []
    }
  ]
}