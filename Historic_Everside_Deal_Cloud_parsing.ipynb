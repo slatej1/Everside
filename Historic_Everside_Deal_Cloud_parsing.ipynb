{
  "nbformat": 4,
  "nbformat_minor": 0,
  "metadata": {
    "colab": {
      "provenance": [],
      "authorship_tag": "ABX9TyNru52it6964nv1GbwE2jE/",
      "include_colab_link": true
    },
    "kernelspec": {
      "name": "python3",
      "display_name": "Python 3"
    },
    "language_info": {
      "name": "python"
    }
  },
  "cells": [
    {
      "cell_type": "markdown",
      "metadata": {
        "id": "view-in-github",
        "colab_type": "text"
      },
      "source": [
        "<a href=\"https://colab.research.google.com/github/slatej1/Everside/blob/main/Historic_Everside_Deal_Cloud_parsing.ipynb\" target=\"_parent\"><img src=\"https://colab.research.google.com/assets/colab-badge.svg\" alt=\"Open In Colab\"/></a>"
      ]
    },
    {
      "cell_type": "code",
      "execution_count": 19,
      "metadata": {
        "id": "JkCyMt3I_9Wu"
      },
      "outputs": [],
      "source": [
        "import pandas as pd\n",
        "import openpyxl"
      ]
    },
    {
      "cell_type": "code",
      "source": [
        "\n",
        "# UPDATE INPUT FILE NAME\n",
        "# Read the data from the source file\n",
        "source_file_path = 'Fund I DealCloud Model - Q3 2021.xlsx'\n",
        "data = pd.read_excel(source_file_path, sheet_name='Overflow Fund', skiprows = 2)  # Adjust sheet_name as needed\n",
        "\n",
        "# print(data.columns)"
      ],
      "metadata": {
        "id": "c8qB2iQd_-q9"
      },
      "execution_count": 20,
      "outputs": []
    },
    {
      "cell_type": "code",
      "source": [
        "template_file_path = 'deal_cloud_dataset_template.xlsx'\n",
        "workbook = openpyxl.load_workbook(template_file_path)\n",
        "worksheet = workbook.active\n",
        "# UPDATE OUTPUT FILE NAME\n",
        "output_file_path = 'Direct I 2021 Q3.xlsx'"
      ],
      "metadata": {
        "id": "UMJ9ev8_AAGF"
      },
      "execution_count": 21,
      "outputs": []
    },
    {
      "cell_type": "code",
      "source": [
        "column_mapping = {\n",
        "    'Company Name': 'E',\n",
        "    'Geography': 'J',\n",
        "    'Industry': 'I',\n",
        "    'Date of Investment': 'H',\n",
        "    'Debt': 'P',\n",
        "    'Equity': 'Q',\n",
        "    'Everside $ Expsoure': 'V',\n",
        "    'Everside % Expsoure': 'W',\n",
        "    'Debt (Cost)': 'Z',\n",
        "    'Debt (FMV)': 'AB',\n",
        "    'Equity (Cost)': 'AD',\n",
        "    'Equity (FMV)': 'AF',\n",
        "    'Cash ': 'AK',\n",
        "    'PIK': 'AL',\n",
        "    'Total Coupon': 'AM',\n",
        "    'Cash': 'AP',\n",
        "    'PIK.1': 'AQ',\n",
        "    'Equity Onwership (FD)': 'AR',\n",
        "    'Senior Debt': 'AS',\n",
        "    'Total Debt': 'AU',\n",
        "    'Liquidity (Cash + Available Liquidity)': 'AW',\n",
        "    'FCCR (Covenants)': 'AX',\n",
        "    'Enterprise Value': 'AY',\n",
        "    'Sales': 'BA',\n",
        "    'EBITDA': 'BB',\n",
        "    'Capex': 'BC',\n",
        "    'Senior Debt.1': 'BE',\n",
        "    'Total Debt.1': 'BG',\n",
        "    'Liquidity (Cash + Available Liquidity).1': 'BL',\n",
        "    'FCCR (Current)': 'BM',\n",
        "    'Enterprise Value.1': 'BN',\n",
        "    'Sales.1': 'BP',\n",
        "    'EBITDA.1': 'BQ',\n",
        "    'Capex.1': 'BR',\n",
        "}"
      ],
      "metadata": {
        "id": "u8dg0rzMACMg"
      },
      "execution_count": 22,
      "outputs": []
    },
    {
      "cell_type": "code",
      "source": [
        "def col_letter_to_num(letter):\n",
        "    num = 0\n",
        "    for char in letter:\n",
        "        num = num * 26 + (ord(char.upper()) - ord('A') + 1)\n",
        "    return num"
      ],
      "metadata": {
        "id": "1L0l3-Y9AEL6"
      },
      "execution_count": 23,
      "outputs": []
    },
    {
      "cell_type": "code",
      "source": [
        "start_row = 2\n",
        "\n",
        "# Set the first three columns to \"Pipeline\"\n",
        "for i in range(len(data)):\n",
        "    for col_num in range(1, 2):\n",
        "        worksheet.cell(row=start_row + i, column=col_num, value=\"Direct I\")\n",
        "\n",
        "for i in range(len(data)):\n",
        "    for col_num in range(2, 4):\n",
        "        worksheet.cell(row=start_row + i, column=col_num, value=\"Directs\")\n",
        "\n",
        "for i in range(len(data)):\n",
        "    for col_num in range(4, 5):\n",
        "        worksheet.cell(row=start_row + i, column=col_num, value=\"12/31/2021\")\n",
        "\n",
        "# Write data to the template based on the column mapping\n",
        "for i, row in data.iterrows():\n",
        "    for source_col, target_cols in column_mapping.items():\n",
        "        if isinstance(target_cols, list):\n",
        "            # Handle mapping a single source column to multiple target columns\n",
        "            for target_col in target_cols:\n",
        "                value = row[source_col]\n",
        "                col_num = col_letter_to_num(target_col)  # Convert column letter to number\n",
        "                worksheet.cell(row=start_row + i, column=col_num, value=value)\n",
        "        elif isinstance(target_cols, dict) and 'sources' in target_cols:\n",
        "            # Handle combined or subtracted columns\n",
        "            sources = target_cols['sources']\n",
        "            target_col_letter = target_cols['target']\n",
        "            if source_col.startswith('Subtracted'):\n",
        "                # Subtract the sum of specified source columns\n",
        "                value = row[sources[0]] - sum(row[source] for source in sources[1:])\n",
        "            else:\n",
        "                # Combine specified columns\n",
        "                value = sum(row[source] for source in sources)\n",
        "            col_num = col_letter_to_num(target_col_letter)  # Convert column letter to number\n",
        "            worksheet.cell(row=start_row + i, column=col_num, value=value)\n",
        "        else:\n",
        "            # Single column mapping\n",
        "            value = row[source_col]\n",
        "            col_num = col_letter_to_num(target_cols)  # Convert column letter to number\n",
        "            worksheet.cell(row=start_row + i, column=col_num, value=value)"
      ],
      "metadata": {
        "id": "1pBWF7XcAFiL"
      },
      "execution_count": 24,
      "outputs": []
    },
    {
      "cell_type": "code",
      "source": [
        "# Save the updated template\n",
        "workbook.save(output_file_path)"
      ],
      "metadata": {
        "id": "WiZnRqq6AHE-"
      },
      "execution_count": 25,
      "outputs": []
    },
    {
      "cell_type": "code",
      "source": [],
      "metadata": {
        "id": "1sDOMkPIAHrY"
      },
      "execution_count": null,
      "outputs": []
    }
  ]
}