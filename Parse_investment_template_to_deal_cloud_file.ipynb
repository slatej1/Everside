{
  "nbformat": 4,
  "nbformat_minor": 0,
  "metadata": {
    "colab": {
      "provenance": [],
      "authorship_tag": "ABX9TyO7iMLC50m0OIMebSyCAJEl",
      "include_colab_link": true
    },
    "kernelspec": {
      "name": "python3",
      "display_name": "Python 3"
    },
    "language_info": {
      "name": "python"
    }
  },
  "cells": [
    {
      "cell_type": "markdown",
      "metadata": {
        "id": "view-in-github",
        "colab_type": "text"
      },
      "source": [
        "<a href=\"https://colab.research.google.com/github/slatej1/Everside/blob/main/Parse_investment_template_to_deal_cloud_file.ipynb\" target=\"_parent\"><img src=\"https://colab.research.google.com/assets/colab-badge.svg\" alt=\"Open In Colab\"/></a>"
      ]
    },
    {
      "cell_type": "code",
      "source": [
        "import pandas as pd\n",
        "import openpyxl"
      ],
      "metadata": {
        "id": "_MvVSc4JvOpy"
      },
      "execution_count": null,
      "outputs": []
    },
    {
      "cell_type": "code",
      "execution_count": null,
      "metadata": {
        "colab": {
          "base_uri": "https://localhost:8080/"
        },
        "id": "F8du4LUZtgKq",
        "outputId": "0300b9d7-6250-4562-a3ae-1c259d3503d1"
      },
      "outputs": [
        {
          "output_type": "stream",
          "name": "stdout",
          "text": [
            "     Unnamed: 0 Unnamed: 1  Unnamed: 2             Company Name  \\\n",
            "0   Ambient Air    LC00001         NaN  Ambient Air Corporation   \n",
            "1      Arandell    LC00002         NaN     Arandell Corporation   \n",
            "2  Arc Drilling    LC00003         NaN       Arc Drilling, Inc.   \n",
            "3          Argo    LC00004         NaN        Argo Systems, LLC   \n",
            "4    Atlas Wire    LC00005         NaN   Atlas Wire Corporation   \n",
            "\n",
            "        Industry         Headquarters State       Date  \\\n",
            "0   Construction      Panama City, FL    FL 2018-05-08   \n",
            "1          Media  Menomonee Falls, WI    WI 2018-05-08   \n",
            "2  Manufacturing      Valley View, OH    OH 2018-05-08   \n",
            "3   Construction          Hanover, MD    MD 2018-05-08   \n",
            "4     Industrial    Schiller Park, IL    IL 2018-05-09   \n",
            "\n",
            "  Date of Investment Memo Date of Exit  ...  Preferred Equity.2  \\\n",
            "0              2012-11-19   2014-03-14  ...                 0.0   \n",
            "1              2014-03-27   2017-12-06  ...                 0.0   \n",
            "2              2017-11-13          NaT  ...           5500000.0   \n",
            "3              2016-02-25   2016-05-25  ...           3150000.0   \n",
            "4              2016-01-29          NaT  ...                 0.0   \n",
            "\n",
            "   Common Equity.2  Warrant.1  Total Sources  Cash to Sellers  Seller Notes  \\\n",
            "0         208008.0        0.0      2428904.0              0.0           0.0   \n",
            "1              0.0        0.0     40860000.0              0.0           0.0   \n",
            "2        3500000.0  3500000.0     22500000.0       12500000.0     8000000.0   \n",
            "3        7850000.0        0.0     20000000.0       10000000.0     9000000.0   \n",
            "4        9000000.0        0.0     19500000.0       16500000.0           0.0   \n",
            "\n",
            "   Cash to Working Capital Refinancing Transaction Expenses  Total Uses  \n",
            "0                      0.0   2428904.0                  0.0   2428904.0  \n",
            "1                  23000.0  39230000.0            1607000.0  40860000.0  \n",
            "2                 500000.0         0.0            1500000.0  22500000.0  \n",
            "3                      0.0         0.0            1000000.0  20000000.0  \n",
            "4                1800000.0         0.0            1200000.0  19500000.0  \n",
            "\n",
            "[5 rows x 82 columns]\n"
          ]
        }
      ],
      "source": [
        "# Read the data from the source file\n",
        "source_file_path = 'Investment Template_Farragut v4.xlsx'\n",
        "data = pd.read_excel(source_file_path, sheet_name='eFile', skiprows = 7)  # Adjust sheet_name as needed\n",
        "\n",
        "print(data.head())"
      ]
    },
    {
      "cell_type": "code",
      "source": [
        "column_mapping = {\n",
        "    'Company Name': 'E',\n",
        "    'Industry': 'H',\n",
        "    'Date of Investment Memo': 'D',\n",
        "    'Revenue': ['AZ', 'BO'],\n",
        "    'Adj. EBITDA ': ['BA', 'BP'],\n",
        "    'Implied EV': ['AX', 'BM'],\n",
        "    'Description': 'DE',\n",
        "    'Sourcing': 'J',\n",
        "    'Sourcing Description': 'K',\n",
        "    'Investment': 'U',\n",
        "    'Total Investment': 'R',\n",
        "    'Senior Debt.1': ['AR', 'BD'],\n",
        "    'Sr. Subordinated debt.1': ['AT', 'BF'],\n",
        "    'Cash': 'AJ',\n",
        "    'Dividend/PIK': 'AK',\n",
        "    'Cash.1': 'AO',\n",
        "    'Dividend/PIK.1': 'AP',\n",
        "    'Ownership.1': 'AQ',\n",
        "    'Tenor': 'AN',\n",
        "    'CombinedColumn': {'sources': ['Cash', 'Dividend/PIK'], 'target': 'AL'} ,\n",
        "    'CombinedColumn': {'sources': ['Senior Debt.1', 'Sr. Subordinated debt.1'], 'target': 'P'} ,\n",
        "    'SubtractedColumn': {'sources': ['Total Investment', 'Senior Debt.1', 'Sr. Subordinated debt.1'], 'target': 'O'}\n",
        "}"
      ],
      "metadata": {
        "id": "R6sG05POw5bP"
      },
      "execution_count": null,
      "outputs": []
    },
    {
      "cell_type": "code",
      "source": [
        "template_file_path = 'deal_cloud_dataset_template.xlsx'\n",
        "workbook = load_workbook(template_file_path)\n",
        "worksheet = workbook.active"
      ],
      "metadata": {
        "id": "XU1p4gbwul5J"
      },
      "execution_count": null,
      "outputs": []
    },
    {
      "cell_type": "code",
      "source": [
        "def col_letter_to_num(letter):\n",
        "    num = 0\n",
        "    for char in letter:\n",
        "        num = num * 26 + (ord(char.upper()) - ord('A') + 1)\n",
        "    return num"
      ],
      "metadata": {
        "id": "gbV5xXOu3lmy"
      },
      "execution_count": null,
      "outputs": []
    },
    {
      "cell_type": "code",
      "source": [
        "# Set the first three columns to \"Pipeline\"\n",
        "for i in range(len(data)):\n",
        "    for col_num in range(1, 4):\n",
        "        worksheet.cell(row=start_row + i, column=col_num, value=\"Pipeline\")\n",
        "\n",
        "# Write data to the template based on the column mapping\n",
        "for i, row in data.iterrows():\n",
        "    for source_col, target_cols in column_mapping.items():\n",
        "        if isinstance(target_cols, list):\n",
        "            # Handle mapping a single source column to multiple target columns\n",
        "            for target_col in target_cols:\n",
        "                value = row[source_col]\n",
        "                col_num = col_letter_to_num(target_col)  # Convert column letter to number\n",
        "                worksheet.cell(row=start_row + i, column=col_num, value=value)\n",
        "        elif isinstance(target_cols, dict) and 'sources' in target_cols:\n",
        "            # Handle combined or subtracted columns\n",
        "            sources = target_cols['sources']\n",
        "            target_col_letter = target_cols['target']\n",
        "            if source_col.startswith('Subtracted'):\n",
        "                # Subtract the sum of specified source columns\n",
        "                value = row[sources[0]] - sum(row[source] for source in sources[1:])\n",
        "            else:\n",
        "                # Combine specified columns\n",
        "                value = sum(row[source] for source in sources)\n",
        "            col_num = col_letter_to_num(target_col_letter)  # Convert column letter to number\n",
        "            worksheet.cell(row=start_row + i, column=col_num, value=value)\n",
        "        else:\n",
        "            # Single column mapping\n",
        "            value = row[source_col]\n",
        "            col_num = col_letter_to_num(target_cols)  # Convert column letter to number\n",
        "            worksheet.cell(row=start_row + i, column=col_num, value=value)\n",
        "\n",
        "\n",
        "# Save the updated template\n",
        "output_file_path = 'output_file_farragut_v4-v7.xlsx'\n",
        "workbook.save(output_file_path)"
      ],
      "metadata": {
        "id": "kY8O8GXK03tU"
      },
      "execution_count": null,
      "outputs": []
    },
    {
      "cell_type": "code",
      "source": [],
      "metadata": {
        "id": "WxJOlSZm_nWQ"
      },
      "execution_count": null,
      "outputs": []
    }
  ]
}