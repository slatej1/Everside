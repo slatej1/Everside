{
  "nbformat": 4,
  "nbformat_minor": 0,
  "metadata": {
    "colab": {
      "provenance": [],
      "authorship_tag": "ABX9TyMpFdwd5es5A0ceFQcFgmGI",
      "include_colab_link": true
    },
    "kernelspec": {
      "name": "python3",
      "display_name": "Python 3"
    },
    "language_info": {
      "name": "python"
    }
  },
  "cells": [
    {
      "cell_type": "markdown",
      "metadata": {
        "id": "view-in-github",
        "colab_type": "text"
      },
      "source": [
        "<a href=\"https://colab.research.google.com/github/slatej1/Everside/blob/main/Parse_investment_template_to_deal_cloud_file.ipynb\" target=\"_parent\"><img src=\"https://colab.research.google.com/assets/colab-badge.svg\" alt=\"Open In Colab\"/></a>"
      ]
    },
    {
      "cell_type": "code",
      "source": [
        "import pandas as pd\n",
        "import openpyxl"
      ],
      "metadata": {
        "id": "_MvVSc4JvOpy"
      },
      "execution_count": 1,
      "outputs": []
    },
    {
      "cell_type": "code",
      "execution_count": 14,
      "metadata": {
        "id": "F8du4LUZtgKq"
      },
      "outputs": [],
      "source": [
        "\n",
        "# UPDATE INPUT FILE NAME\n",
        "# Read the data from the source file\n",
        "source_file_path = 'Investment Template - Oxer.xlsx'\n",
        "data = pd.read_excel(source_file_path, sheet_name='eFile', skiprows = 7)  # Adjust sheet_name as needed\n",
        "\n",
        "# print(data.head())"
      ]
    },
    {
      "cell_type": "code",
      "source": [
        "template_file_path = 'deal_cloud_dataset_template_for_python.xlsx'\n",
        "workbook = openpyxl.load_workbook(template_file_path)\n",
        "worksheet = workbook.active\n",
        "# UPDATE OUTPUT FILE NAME\n",
        "output_file_path = 'output_file_Oxer-v1.xlsx'"
      ],
      "metadata": {
        "id": "XU1p4gbwul5J"
      },
      "execution_count": 15,
      "outputs": []
    },
    {
      "cell_type": "code",
      "source": [
        "column_mapping = {\n",
        "    'Company Name': 'E',\n",
        "    'Industry': 'I',\n",
        "    'Date of Investment Memo': 'D',\n",
        "    'Revenue': ['BA', 'BP'],\n",
        "    'Adj. EBITDA ': ['BB', 'BQ'],\n",
        "    'Implied EV': ['AY', 'BN'],\n",
        "    'Description': 'DF',\n",
        "    'Sourcing': 'K',\n",
        "    'Sourcing Description': 'L',\n",
        "    'Investment': 'V',\n",
        "    'Total Investment': 'S',\n",
        "    'Senior Debt.1': ['AS', 'BE'],\n",
        "    'Sr. Subordinated debt.1': ['AU', 'BG'],\n",
        "    'Cash': 'AK',\n",
        "    'Dividend/PIK': 'AL',\n",
        "    'Cash.1': 'AP',\n",
        "    'Dividend/PIK.1': 'AQ',\n",
        "    'Ownership.1': 'AR',\n",
        "    'Tenor': 'AO',\n",
        "    'CombinedColumn': {'sources': ['Cash', 'Dividend/PIK'], 'target': 'AM'} ,\n",
        "    'CombinedColumn': {'sources': ['Senior Debt.1', 'Sr. Subordinated debt.1'], 'target': 'Q'} ,\n",
        "    'SubtractedColumn': {'sources': ['Total Investment', 'Senior Debt.1', 'Sr. Subordinated debt.1'], 'target': 'P'}\n",
        "}"
      ],
      "metadata": {
        "id": "R6sG05POw5bP"
      },
      "execution_count": 16,
      "outputs": []
    },
    {
      "cell_type": "code",
      "source": [
        "def col_letter_to_num(letter):\n",
        "    num = 0\n",
        "    for char in letter:\n",
        "        num = num * 26 + (ord(char.upper()) - ord('A') + 1)\n",
        "    return num"
      ],
      "metadata": {
        "id": "gbV5xXOu3lmy"
      },
      "execution_count": 17,
      "outputs": []
    },
    {
      "cell_type": "code",
      "source": [
        "start_row = 2\n",
        "\n",
        "# Set the first three columns to \"Pipeline\"\n",
        "for i in range(len(data)):\n",
        "    for col_num in range(1, 4):\n",
        "        worksheet.cell(row=start_row + i, column=col_num, value=\"Pipeline\")\n",
        "\n",
        "# Write data to the template based on the column mapping\n",
        "for i, row in data.iterrows():\n",
        "    for source_col, target_cols in column_mapping.items():\n",
        "        if isinstance(target_cols, list):\n",
        "            # Handle mapping a single source column to multiple target columns\n",
        "            for target_col in target_cols:\n",
        "                value = row[source_col]\n",
        "                col_num = col_letter_to_num(target_col)  # Convert column letter to number\n",
        "                worksheet.cell(row=start_row + i, column=col_num, value=value)\n",
        "        elif isinstance(target_cols, dict) and 'sources' in target_cols:\n",
        "            # Handle combined or subtracted columns\n",
        "            sources = target_cols['sources']\n",
        "            target_col_letter = target_cols['target']\n",
        "            if source_col.startswith('Subtracted'):\n",
        "                # Subtract the sum of specified source columns\n",
        "                value = row[sources[0]] - sum(row[source] for source in sources[1:])\n",
        "            else:\n",
        "                # Combine specified columns\n",
        "                value = sum(row[source] for source in sources)\n",
        "            col_num = col_letter_to_num(target_col_letter)  # Convert column letter to number\n",
        "            worksheet.cell(row=start_row + i, column=col_num, value=value)\n",
        "        else:\n",
        "            # Single column mapping\n",
        "            value = row[source_col]\n",
        "            col_num = col_letter_to_num(target_cols)  # Convert column letter to number\n",
        "            worksheet.cell(row=start_row + i, column=col_num, value=value)"
      ],
      "metadata": {
        "id": "kY8O8GXK03tU"
      },
      "execution_count": 18,
      "outputs": []
    },
    {
      "cell_type": "code",
      "source": [
        "# Save the updated template\n",
        "workbook.save(output_file_path)"
      ],
      "metadata": {
        "id": "BadIAgBP0QgX"
      },
      "execution_count": 19,
      "outputs": []
    },
    {
      "cell_type": "code",
      "source": [],
      "metadata": {
        "id": "mICZa_WJ23pQ"
      },
      "execution_count": null,
      "outputs": []
    }
  ]
}